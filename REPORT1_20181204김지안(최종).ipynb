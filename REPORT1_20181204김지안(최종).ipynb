{
 "cells": [
  {
   "cell_type": "markdown",
   "metadata": {},
   "source": [
    "MOVIE BARCODE REPORT :20181204 김지안"
   ]
  },
  {
   "cell_type": "markdown",
   "metadata": {},
   "source": [
    "1# 모듈 및 함수 만들기"
   ]
  },
  {
   "cell_type": "markdown",
   "metadata": {},
   "source": [
    "1-1. 우선 무비 바코드를 만들기 위해서는 몇 가지 모듈이 필요하다."
   ]
  },
  {
   "cell_type": "code",
   "execution_count": 5,
   "metadata": {},
   "outputs": [],
   "source": [
    "#import: 불러오다\n",
    "import numpy as np\n",
    "import importlib\n",
    "import matplotlib.pyplot as plt\n",
    "import cv2\n",
    "import imageio"
   ]
  },
  {
   "cell_type": "markdown",
   "metadata": {},
   "source": [
    "1-2. 색을 지정하는 함수를 만든다."
   ]
  },
  {
   "cell_type": "code",
   "execution_count": 6,
   "metadata": {},
   "outputs": [],
   "source": [
    "# def 함수명(변수):\n",
    "     # 함수내용\n",
    "     # return 반환할 값\n",
    "\n",
    "def getRepColor(img): # getRepColor 함수 생성\n",
    "    # rc와 cc는 각각 너비, 길이의 중간값\n",
    "    # img.shape: (height, width, depth), 각각을 인덱싱하면 (0,1,2)\n",
    "    # // 사용해야 정수값 도출\n",
    "    rc = img.shape[0]//2 # shape[0]은 height\n",
    "    cc = img.shape[1]//2 # shape[1]은 width\n",
    "    #img.shape : (height, width, depth) 인덱싱 하면 (0,1,2)\n",
    "    color = img[rc, cc] # 이미지 안에서 (rc, cc)에 해당하는 좌표의 color\n",
    "    return color # 함수를 쓰면 img[rc,cc]"
   ]
  },
  {
   "cell_type": "markdown",
   "metadata": {},
   "source": [
    "2# 동영상 불러오기"
   ]
  },
  {
   "cell_type": "markdown",
   "metadata": {},
   "source": [
    "2-1. 바코드화하고자 하는 동영상을 filename이라는 변수에 저장한다.\n",
    "그리고 filename을 cv2모듈을 이용해 프레임단위로 읽는(캡쳐하는) 변수 cap을 설정한다."
   ]
  },
  {
   "cell_type": "code",
   "execution_count": 7,
   "metadata": {},
   "outputs": [],
   "source": [
    "filename = 'C:\\\\Users\\\\user\\\\Desktop\\\\Shawn Mendes - Nervous.mp4' # 동영상 위치\n",
    "cap = cv2.VideoCapture(filename) # 파일을 프레임 단위로 읽기"
   ]
  },
  {
   "cell_type": "markdown",
   "metadata": {},
   "source": [
    "2-2. 만약 cap이 정상적으로 작동되지 않을 경우, 'File open error'을 출력해주는 if문도 만든다."
   ]
  },
  {
   "cell_type": "code",
   "execution_count": 8,
   "metadata": {},
   "outputs": [],
   "source": [
    "if cap.isOpened() == False:\n",
    "    print('File open error:', filename) # 오류 있을 시 출력"
   ]
  },
  {
   "cell_type": "markdown",
   "metadata": {},
   "source": [
    "3# 값을 저장할 리스트 만들기, img 범위 설정하기"
   ]
  },
  {
   "cell_type": "markdown",
   "metadata": {},
   "source": [
    "3-1. 빈 리스트 CList를 생성한다.\n",
    "이후 프레임이 끝날 때까지 cap을 읽는 read()함수를 반복하는 while문을 작성한다.\n",
    "while문을 거쳐 나온 frame은 getRepColor() 함수를 거쳐 변수 c에 저장된다.\n",
    "c가 append()함수를 통해 빈 리스트 CList에 추가된다."
   ]
  },
  {
   "cell_type": "code",
   "execution_count": 9,
   "metadata": {},
   "outputs": [],
   "source": [
    "CList = []\n",
    "\n",
    "while(True):\n",
    "    ret, frame = cap.read() # frame은 cap.read()\n",
    "\n",
    "    if ret == False: #더이상 프레임이 안 남았을 때 while문 종료\n",
    "        break \n",
    "\n",
    "    c = getRepColor(frame) # frame -> img(변수), frame이 c로 반환\n",
    "    CList.append(c) #CList에 c 추가"
   ]
  },
  {
   "cell_type": "markdown",
   "metadata": {},
   "source": [
    "3-2. img의 범위는 세로는 1000, 가로는 Clist의 길이만큼 설정한다."
   ]
  },
  {
   "cell_type": "code",
   "execution_count": 10,
   "metadata": {},
   "outputs": [],
   "source": [
    "cap.release()\n",
    "img = np.zeros((1000,len(CList),3)) # (세로, 가로, 색깔단위(RGB))"
   ]
  },
  {
   "cell_type": "markdown",
   "metadata": {},
   "source": [
    "4# 바코드 시각화하기"
   ]
  },
  {
   "cell_type": "markdown",
   "metadata": {},
   "source": [
    "4-1. Clist의 길이만큼 반복되는 for 문을 만든다.\n",
    "모든 프레임의 r,g,b는 img의 리스트에 각 리스트로 저장된다."
   ]
  },
  {
   "cell_type": "code",
   "execution_count": 11,
   "metadata": {},
   "outputs": [],
   "source": [
    "for i in range(len(CList)):\n",
    "    #r = CList[i][0]\n",
    "    #g = CList[i][1]\n",
    "    #b = CList[i][2]\n",
    "    img[:,i] = CList[i] #:(column) = 전체 = img[0:1000,i] = [r,g,b]"
   ]
  },
  {
   "cell_type": "markdown",
   "metadata": {},
   "source": [
    "4-2. opencv모듈은 색을 b,g,r순으로 읽기 때문에, r,g,b 순서로 변환하는 작업이 필요하다.\n",
    "우선, r,g,b가 각각의 리스트로 저장되어 있던 img를 cv2.split() 함수를 이용해 분리한다.\n",
    "이후 cv2.merge() 함수를 이용해 올바른 순서로 정리한다.\n",
    "이 때 img2라는 변수를 사용해 새롭게 정의한다."
   ]
  },
  {
   "cell_type": "code",
   "execution_count": 12,
   "metadata": {},
   "outputs": [
    {
     "data": {
      "image/png": "[encoded data removed]",
      "text/plain": [
       "<Figure size 432x288 with 1 Axes>"
      ]
     },
     "metadata": {
      "needs_background": "light"
     },
     "output_type": "display_data"
    }
   ],
   "source": [
    "b,g,r = cv2.split(img) #img파일을 b,g,r로 분리\n",
    "img2 = cv2.merge([r,g,b]) #b,r을 바꿔서 Merge\n",
    "\n",
    "img2 = img2.astype(np.uint8) #데이터 타입을 uint8로\n",
    "plt.imshow(img2)\n",
    "plt.show()"
   ]
  },
  {
   "cell_type": "markdown",
   "metadata": {},
   "source": [
    "5# 마무리"
   ]
  },
  {
   "cell_type": "code",
   "execution_count": 13,
   "metadata": {},
   "outputs": [],
   "source": [
    "imageio.imwrite(\"MovieBarcode_Shawn Mendes_Nervous.jpg\",img2)\n",
    "#이 이름으로 이미지 파일을 만든다\n",
    "\n",
    "cv2.destroyAllWindows() #cv2.imshow #생성된 모든 윈도우를 제거"
   ]
  },
  {
   "cell_type": "code",
   "execution_count": null,
   "metadata": {},
   "outputs": [],
   "source": []
  }
 ],
 "metadata": {
  "kernelspec": {
   "display_name": "Python 3",
   "language": "python",
   "name": "python3"
  },
  "language_info": {
   "codemirror_mode": {
    "name": "ipython",
    "version": 3
   },
   "file_extension": ".py",
   "mimetype": "text/x-python",
   "name": "python",
   "nbconvert_exporter": "python",
   "pygments_lexer": "ipython3",
   "version": "3.6.7"
  }
 },
 "nbformat": 4,
 "nbformat_minor": 2
}
